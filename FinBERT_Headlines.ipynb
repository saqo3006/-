{
 "cells": [
  {
   "cell_type": "code",
   "execution_count": 1,
   "id": "5cea6b5d-ea43-4517-a9cd-6f99713042b6",
   "metadata": {
    "tags": []
   },
   "outputs": [],
   "source": [
    "import os\n",
    "os.environ[\"HF_HUB_DISABLE_SYMLINKS_WARNING\"] = \"1\""
   ]
  },
  {
   "cell_type": "code",
   "execution_count": 2,
   "id": "c39c2539-db2c-4e21-921f-eda0185b3103",
   "metadata": {
    "tags": []
   },
   "outputs": [],
   "source": [
    "from transformers import AutoTokenizer, AutoModelForSequenceClassification\n",
    "\n",
    "tokenizer = AutoTokenizer.from_pretrained(\"ProsusAI/finbert\")\n",
    "\n",
    "model = AutoModelForSequenceClassification.from_pretrained(\"ProsusAI/finbert\")"
   ]
  },
  {
   "cell_type": "code",
   "execution_count": 3,
   "id": "c6873776-73a0-4093-9fa8-9168b9fbd726",
   "metadata": {
    "tags": []
   },
   "outputs": [],
   "source": [
    "import pandas as pd"
   ]
  },
  {
   "cell_type": "code",
   "execution_count": 4,
   "id": "b848f2f2-2186-4cab-a7cb-a745ad4fa98c",
   "metadata": {
    "tags": []
   },
   "outputs": [],
   "source": [
    "financial_news = pd.read_csv('aapl_news.csv')"
   ]
  },
  {
   "cell_type": "code",
   "execution_count": 5,
   "id": "9fbdead9-154f-4e91-b0ed-568cabbe21fc",
   "metadata": {
    "tags": []
   },
   "outputs": [
    {
     "data": {
      "text/html": [
       "<div>\n",
       "<style scoped>\n",
       "    .dataframe tbody tr th:only-of-type {\n",
       "        vertical-align: middle;\n",
       "    }\n",
       "\n",
       "    .dataframe tbody tr th {\n",
       "        vertical-align: top;\n",
       "    }\n",
       "\n",
       "    .dataframe thead th {\n",
       "        text-align: right;\n",
       "    }\n",
       "</style>\n",
       "<table border=\"1\" class=\"dataframe\">\n",
       "  <thead>\n",
       "    <tr style=\"text-align: right;\">\n",
       "      <th></th>\n",
       "      <th>title</th>\n",
       "      <th>url</th>\n",
       "      <th>time_published</th>\n",
       "      <th>authors</th>\n",
       "      <th>summary</th>\n",
       "      <th>source</th>\n",
       "      <th>category_within_source</th>\n",
       "      <th>source_domain</th>\n",
       "      <th>topics</th>\n",
       "      <th>sentiment_score</th>\n",
       "      <th>sentiment_label</th>\n",
       "      <th>ticker</th>\n",
       "    </tr>\n",
       "  </thead>\n",
       "  <tbody>\n",
       "    <tr>\n",
       "      <th>0</th>\n",
       "      <td>US stocks fall, oil tops $105 as Ukraine crisi...</td>\n",
       "      <td>https://www.aljazeera.com/economy/2022/3/1/us-...</td>\n",
       "      <td>20220301T080000</td>\n",
       "      <td>Rita Nazareth</td>\n",
       "      <td>A surge in oil sent shivers through risky asse...</td>\n",
       "      <td>Al Jareeza</td>\n",
       "      <td>NaN</td>\n",
       "      <td>www.aljazeera.com</td>\n",
       "      <td>[{'topic': 'Economy - Monetary', 'relevance_sc...</td>\n",
       "      <td>-0.277460</td>\n",
       "      <td>Somewhat-Bearish</td>\n",
       "      <td>AAPL, FOREX:JPY</td>\n",
       "    </tr>\n",
       "    <tr>\n",
       "      <th>1</th>\n",
       "      <td>Apple halts product sales in Russia after Ukra...</td>\n",
       "      <td>https://www.scmp.com/tech/big-tech/article/316...</td>\n",
       "      <td>20220302T020013</td>\n",
       "      <td>Bloomberg</td>\n",
       "      <td>Apple Inc halted sales of the iPhone and its o...</td>\n",
       "      <td>South China Morning Post</td>\n",
       "      <td>Companies</td>\n",
       "      <td>www.scmp.com</td>\n",
       "      <td>[{'topic': 'Technology', 'relevance_score': '0...</td>\n",
       "      <td>-0.495467</td>\n",
       "      <td>Bearish</td>\n",
       "      <td>HPQ, NKE, AAPL</td>\n",
       "    </tr>\n",
       "    <tr>\n",
       "      <th>2</th>\n",
       "      <td>Russia says its economy is taking 'serious blo...</td>\n",
       "      <td>https://www.cnn.com/2022/03/02/business/russia...</td>\n",
       "      <td>20220302T080000</td>\n",
       "      <td>Mark Thompson and Vasco Cotovio, CNN Business</td>\n",
       "      <td>London/Moscow  (  CNN Business  )  The Russian...</td>\n",
       "      <td>CNN</td>\n",
       "      <td>Markets</td>\n",
       "      <td>www.cnn.com</td>\n",
       "      <td>[{'topic': 'Economy - Monetary', 'relevance_sc...</td>\n",
       "      <td>-0.469431</td>\n",
       "      <td>Bearish</td>\n",
       "      <td>EADSF, AAPL, TTE, BA, XOM, FOREX:RUB, FOREX:USD</td>\n",
       "    </tr>\n",
       "    <tr>\n",
       "      <th>3</th>\n",
       "      <td>Rich Russians turn to luxury jewellery, watche...</td>\n",
       "      <td>https://www.aljazeera.com/economy/2022/3/2/ric...</td>\n",
       "      <td>20220302T080000</td>\n",
       "      <td>Angelina Rascouet and Andy Hoffman, Flavia Rot...</td>\n",
       "      <td>With sanctions on Russia sending the ruble plu...</td>\n",
       "      <td>Al Jareeza</td>\n",
       "      <td>NaN</td>\n",
       "      <td>www.aljazeera.com</td>\n",
       "      <td>[{'topic': 'Economy - Monetary', 'relevance_sc...</td>\n",
       "      <td>-0.118323</td>\n",
       "      <td>Neutral</td>\n",
       "      <td>AAPL, MS, XOM, NKE, BBRYF, BP, PPRUF, RYDAF, F...</td>\n",
       "    </tr>\n",
       "    <tr>\n",
       "      <th>4</th>\n",
       "      <td>Market Rallies, But Still Must Do This; 5 Stoc...</td>\n",
       "      <td>https://www.investors.com/market-trend/stock-m...</td>\n",
       "      <td>20220303T080000</td>\n",
       "      <td>Investor's Business Daily, ED CARSON</td>\n",
       "      <td>Dow Jones Futures: Stock Market Rallies On 'Ni...</td>\n",
       "      <td>Investors Business Daily</td>\n",
       "      <td>NaN</td>\n",
       "      <td>www.investors.com</td>\n",
       "      <td>[{'topic': 'Life Sciences', 'relevance_score':...</td>\n",
       "      <td>-0.092622</td>\n",
       "      <td>Neutral</td>\n",
       "      <td>AAPL, AVGO, SNOW, DDOG, MU, OKE, RMBS, MOS, TS...</td>\n",
       "    </tr>\n",
       "    <tr>\n",
       "      <th>...</th>\n",
       "      <td>...</td>\n",
       "      <td>...</td>\n",
       "      <td>...</td>\n",
       "      <td>...</td>\n",
       "      <td>...</td>\n",
       "      <td>...</td>\n",
       "      <td>...</td>\n",
       "      <td>...</td>\n",
       "      <td>...</td>\n",
       "      <td>...</td>\n",
       "      <td>...</td>\n",
       "      <td>...</td>\n",
       "    </tr>\n",
       "    <tr>\n",
       "      <th>26531</th>\n",
       "      <td>The Best Warren Buffett Stocks to Buy With $2,...</td>\n",
       "      <td>https://www.fool.com/investing/2025/03/22/the-...</td>\n",
       "      <td>20250322T201300</td>\n",
       "      <td>Chris Neiger</td>\n",
       "      <td>The S&amp;P 500 is down more than 7% over the past...</td>\n",
       "      <td>Motley Fool</td>\n",
       "      <td>NaN</td>\n",
       "      <td>www.fool.com</td>\n",
       "      <td>[{'topic': 'Retail &amp; Wholesale', 'relevance_sc...</td>\n",
       "      <td>0.228025</td>\n",
       "      <td>Somewhat-Bullish</td>\n",
       "      <td>MSFT, AXP, AAPL, GS, AMZN, BRK-A</td>\n",
       "    </tr>\n",
       "    <tr>\n",
       "      <th>26532</th>\n",
       "      <td>2 Millionaire-Maker Technology Stocks to Buy</td>\n",
       "      <td>https://www.fool.com/investing/2025/03/23/2-mi...</td>\n",
       "      <td>20250323T091500</td>\n",
       "      <td>Geoffrey Seiler</td>\n",
       "      <td>When it comes to looking for millionaire-makin...</td>\n",
       "      <td>Motley Fool</td>\n",
       "      <td>NaN</td>\n",
       "      <td>www.fool.com</td>\n",
       "      <td>[{'topic': 'Retail &amp; Wholesale', 'relevance_sc...</td>\n",
       "      <td>0.298330</td>\n",
       "      <td>Somewhat-Bullish</td>\n",
       "      <td>MSFT, NVDA, AAPL, SOUN, RMHI, AWON, AMZN</td>\n",
       "    </tr>\n",
       "    <tr>\n",
       "      <th>26533</th>\n",
       "      <td>Apple's Siri AI Crisis, Security Flaws, And Ch...</td>\n",
       "      <td>https://www.benzinga.com/25/03/44449789/apples...</td>\n",
       "      <td>20250323T110119</td>\n",
       "      <td>Rounak Jain</td>\n",
       "      <td>The past week has been a rollercoaster for App...</td>\n",
       "      <td>Benzinga</td>\n",
       "      <td>News</td>\n",
       "      <td>www.benzinga.com</td>\n",
       "      <td>[{'topic': 'Technology', 'relevance_score': '1...</td>\n",
       "      <td>-0.105048</td>\n",
       "      <td>Neutral</td>\n",
       "      <td>AAPL</td>\n",
       "    </tr>\n",
       "    <tr>\n",
       "      <th>26534</th>\n",
       "      <td>Google's AI Sprint, OpenAI Legal Drama, Nvidia...</td>\n",
       "      <td>https://www.benzinga.com/25/03/44450126/google...</td>\n",
       "      <td>20250323T132018</td>\n",
       "      <td>Rounak Jain</td>\n",
       "      <td>The past week has been a rollercoaster ride in...</td>\n",
       "      <td>Benzinga</td>\n",
       "      <td>News</td>\n",
       "      <td>www.benzinga.com</td>\n",
       "      <td>[{'topic': 'Technology', 'relevance_score': '0...</td>\n",
       "      <td>0.108205</td>\n",
       "      <td>Neutral</td>\n",
       "      <td>GOOG, NVDA, AAPL, GM</td>\n",
       "    </tr>\n",
       "    <tr>\n",
       "      <th>26535</th>\n",
       "      <td>Apple Explores AI Wearables With Camera-Integr...</td>\n",
       "      <td>https://www.benzinga.com/tech/25/03/44450408/a...</td>\n",
       "      <td>20250323T154916</td>\n",
       "      <td>Bibhu Pattnaik</td>\n",
       "      <td>Visual Intelligence feature leaps from iPhone ...</td>\n",
       "      <td>Benzinga</td>\n",
       "      <td>News</td>\n",
       "      <td>www.benzinga.com</td>\n",
       "      <td>[{'topic': 'Technology', 'relevance_score': '1...</td>\n",
       "      <td>0.237397</td>\n",
       "      <td>Somewhat-Bullish</td>\n",
       "      <td>AAPL</td>\n",
       "    </tr>\n",
       "  </tbody>\n",
       "</table>\n",
       "<p>26536 rows × 12 columns</p>\n",
       "</div>"
      ],
      "text/plain": [
       "                                                   title  \\\n",
       "0      US stocks fall, oil tops $105 as Ukraine crisi...   \n",
       "1      Apple halts product sales in Russia after Ukra...   \n",
       "2      Russia says its economy is taking 'serious blo...   \n",
       "3      Rich Russians turn to luxury jewellery, watche...   \n",
       "4      Market Rallies, But Still Must Do This; 5 Stoc...   \n",
       "...                                                  ...   \n",
       "26531  The Best Warren Buffett Stocks to Buy With $2,...   \n",
       "26532       2 Millionaire-Maker Technology Stocks to Buy   \n",
       "26533  Apple's Siri AI Crisis, Security Flaws, And Ch...   \n",
       "26534  Google's AI Sprint, OpenAI Legal Drama, Nvidia...   \n",
       "26535  Apple Explores AI Wearables With Camera-Integr...   \n",
       "\n",
       "                                                     url   time_published  \\\n",
       "0      https://www.aljazeera.com/economy/2022/3/1/us-...  20220301T080000   \n",
       "1      https://www.scmp.com/tech/big-tech/article/316...  20220302T020013   \n",
       "2      https://www.cnn.com/2022/03/02/business/russia...  20220302T080000   \n",
       "3      https://www.aljazeera.com/economy/2022/3/2/ric...  20220302T080000   \n",
       "4      https://www.investors.com/market-trend/stock-m...  20220303T080000   \n",
       "...                                                  ...              ...   \n",
       "26531  https://www.fool.com/investing/2025/03/22/the-...  20250322T201300   \n",
       "26532  https://www.fool.com/investing/2025/03/23/2-mi...  20250323T091500   \n",
       "26533  https://www.benzinga.com/25/03/44449789/apples...  20250323T110119   \n",
       "26534  https://www.benzinga.com/25/03/44450126/google...  20250323T132018   \n",
       "26535  https://www.benzinga.com/tech/25/03/44450408/a...  20250323T154916   \n",
       "\n",
       "                                                 authors  \\\n",
       "0                                          Rita Nazareth   \n",
       "1                                              Bloomberg   \n",
       "2          Mark Thompson and Vasco Cotovio, CNN Business   \n",
       "3      Angelina Rascouet and Andy Hoffman, Flavia Rot...   \n",
       "4                   Investor's Business Daily, ED CARSON   \n",
       "...                                                  ...   \n",
       "26531                                       Chris Neiger   \n",
       "26532                                    Geoffrey Seiler   \n",
       "26533                                        Rounak Jain   \n",
       "26534                                        Rounak Jain   \n",
       "26535                                     Bibhu Pattnaik   \n",
       "\n",
       "                                                 summary  \\\n",
       "0      A surge in oil sent shivers through risky asse...   \n",
       "1      Apple Inc halted sales of the iPhone and its o...   \n",
       "2      London/Moscow  (  CNN Business  )  The Russian...   \n",
       "3      With sanctions on Russia sending the ruble plu...   \n",
       "4      Dow Jones Futures: Stock Market Rallies On 'Ni...   \n",
       "...                                                  ...   \n",
       "26531  The S&P 500 is down more than 7% over the past...   \n",
       "26532  When it comes to looking for millionaire-makin...   \n",
       "26533  The past week has been a rollercoaster for App...   \n",
       "26534  The past week has been a rollercoaster ride in...   \n",
       "26535  Visual Intelligence feature leaps from iPhone ...   \n",
       "\n",
       "                         source category_within_source      source_domain  \\\n",
       "0                    Al Jareeza                    NaN  www.aljazeera.com   \n",
       "1      South China Morning Post              Companies       www.scmp.com   \n",
       "2                           CNN                Markets        www.cnn.com   \n",
       "3                    Al Jareeza                    NaN  www.aljazeera.com   \n",
       "4      Investors Business Daily                    NaN  www.investors.com   \n",
       "...                         ...                    ...                ...   \n",
       "26531               Motley Fool                    NaN       www.fool.com   \n",
       "26532               Motley Fool                    NaN       www.fool.com   \n",
       "26533                  Benzinga                   News   www.benzinga.com   \n",
       "26534                  Benzinga                   News   www.benzinga.com   \n",
       "26535                  Benzinga                   News   www.benzinga.com   \n",
       "\n",
       "                                                  topics  sentiment_score  \\\n",
       "0      [{'topic': 'Economy - Monetary', 'relevance_sc...        -0.277460   \n",
       "1      [{'topic': 'Technology', 'relevance_score': '0...        -0.495467   \n",
       "2      [{'topic': 'Economy - Monetary', 'relevance_sc...        -0.469431   \n",
       "3      [{'topic': 'Economy - Monetary', 'relevance_sc...        -0.118323   \n",
       "4      [{'topic': 'Life Sciences', 'relevance_score':...        -0.092622   \n",
       "...                                                  ...              ...   \n",
       "26531  [{'topic': 'Retail & Wholesale', 'relevance_sc...         0.228025   \n",
       "26532  [{'topic': 'Retail & Wholesale', 'relevance_sc...         0.298330   \n",
       "26533  [{'topic': 'Technology', 'relevance_score': '1...        -0.105048   \n",
       "26534  [{'topic': 'Technology', 'relevance_score': '0...         0.108205   \n",
       "26535  [{'topic': 'Technology', 'relevance_score': '1...         0.237397   \n",
       "\n",
       "        sentiment_label                                             ticker  \n",
       "0      Somewhat-Bearish                                    AAPL, FOREX:JPY  \n",
       "1               Bearish                                     HPQ, NKE, AAPL  \n",
       "2               Bearish    EADSF, AAPL, TTE, BA, XOM, FOREX:RUB, FOREX:USD  \n",
       "3               Neutral  AAPL, MS, XOM, NKE, BBRYF, BP, PPRUF, RYDAF, F...  \n",
       "4               Neutral  AAPL, AVGO, SNOW, DDOG, MU, OKE, RMBS, MOS, TS...  \n",
       "...                 ...                                                ...  \n",
       "26531  Somewhat-Bullish                   MSFT, AXP, AAPL, GS, AMZN, BRK-A  \n",
       "26532  Somewhat-Bullish           MSFT, NVDA, AAPL, SOUN, RMHI, AWON, AMZN  \n",
       "26533           Neutral                                               AAPL  \n",
       "26534           Neutral                               GOOG, NVDA, AAPL, GM  \n",
       "26535  Somewhat-Bullish                                               AAPL  \n",
       "\n",
       "[26536 rows x 12 columns]"
      ]
     },
     "execution_count": 5,
     "metadata": {},
     "output_type": "execute_result"
    }
   ],
   "source": [
    "financial_news"
   ]
  },
  {
   "cell_type": "code",
   "execution_count": 6,
   "id": "4e8c41da-25c9-4ae5-bf04-7dba6532933f",
   "metadata": {
    "tags": []
   },
   "outputs": [
    {
     "data": {
      "text/plain": [
       "title                      object\n",
       "url                        object\n",
       "time_published             object\n",
       "authors                    object\n",
       "summary                    object\n",
       "source                     object\n",
       "category_within_source     object\n",
       "source_domain              object\n",
       "topics                     object\n",
       "sentiment_score           float64\n",
       "sentiment_label            object\n",
       "ticker                     object\n",
       "dtype: object"
      ]
     },
     "execution_count": 6,
     "metadata": {},
     "output_type": "execute_result"
    }
   ],
   "source": [
    "financial_news.dtypes"
   ]
  },
  {
   "cell_type": "code",
   "execution_count": 7,
   "id": "852f5c6e-3e6e-4203-babf-825b531a4b8f",
   "metadata": {
    "tags": []
   },
   "outputs": [
    {
     "data": {
      "text/plain": [
       "0       2022-03-01 08:00:00\n",
       "1       2022-03-02 02:00:13\n",
       "2       2022-03-02 08:00:00\n",
       "3       2022-03-02 08:00:00\n",
       "4       2022-03-03 08:00:00\n",
       "                ...        \n",
       "26531   2025-03-22 20:13:00\n",
       "26532   2025-03-23 09:15:00\n",
       "26533   2025-03-23 11:01:19\n",
       "26534   2025-03-23 13:20:18\n",
       "26535   2025-03-23 15:49:16\n",
       "Name: Date, Length: 26536, dtype: datetime64[ns]"
      ]
     },
     "execution_count": 7,
     "metadata": {},
     "output_type": "execute_result"
    }
   ],
   "source": [
    "financial_news['Date'] = pd.to_datetime(financial_news['time_published'])\n",
    "financial_news['Date']"
   ]
  },
  {
   "cell_type": "code",
   "execution_count": 8,
   "id": "f9d62ef9-d50c-48c7-91a5-4a387bf92b03",
   "metadata": {
    "tags": []
   },
   "outputs": [],
   "source": [
    "# Creating a new dataframe column in which story title and story excerpts are merged into one column\n",
    "financial_news['Merged_Text'] = financial_news['title']"
   ]
  },
  {
   "cell_type": "code",
   "execution_count": 9,
   "id": "87599cdb-49fa-4e45-8d90-a3d51544f469",
   "metadata": {
    "tags": []
   },
   "outputs": [
    {
     "data": {
      "text/plain": [
       "0        US stocks fall, oil tops $105 as Ukraine crisi...\n",
       "1        Apple halts product sales in Russia after Ukra...\n",
       "2        Russia says its economy is taking 'serious blo...\n",
       "3        Rich Russians turn to luxury jewellery, watche...\n",
       "4        Market Rallies, But Still Must Do This; 5 Stoc...\n",
       "                               ...                        \n",
       "26531    The Best Warren Buffett Stocks to Buy With $2,...\n",
       "26532         2 Millionaire-Maker Technology Stocks to Buy\n",
       "26533    Apple's Siri AI Crisis, Security Flaws, And Ch...\n",
       "26534    Google's AI Sprint, OpenAI Legal Drama, Nvidia...\n",
       "26535    Apple Explores AI Wearables With Camera-Integr...\n",
       "Name: Merged_Text, Length: 26536, dtype: object"
      ]
     },
     "execution_count": 9,
     "metadata": {},
     "output_type": "execute_result"
    }
   ],
   "source": [
    "financial_news.Merged_Text.str.strip()"
   ]
  },
  {
   "cell_type": "code",
   "execution_count": 10,
   "id": "180b0b64-49a1-40c8-afa0-b066df635d15",
   "metadata": {
    "tags": []
   },
   "outputs": [],
   "source": [
    "# We first need to convert text columns into python lists before passing it onto Tokenizer\n",
    "merged_list = financial_news['Merged_Text'].values.tolist()"
   ]
  },
  {
   "cell_type": "code",
   "execution_count": 11,
   "id": "c00cd674-ba7f-4769-8cb2-6d42df329969",
   "metadata": {
    "tags": []
   },
   "outputs": [],
   "source": [
    "merged_list = [str(item) for item in merged_list]"
   ]
  },
  {
   "cell_type": "code",
   "execution_count": 12,
   "id": "8b39b9e4-7d81-41d6-baec-51a501ad6c01",
   "metadata": {
    "tags": []
   },
   "outputs": [],
   "source": [
    "import torch\n",
    "\n",
    "from torch.utils.data import DataLoader, TensorDataset"
   ]
  },
  {
   "cell_type": "code",
   "execution_count": 13,
   "id": "a58f6e77-46ca-4ee2-a9a8-042f772c7800",
   "metadata": {
    "tags": []
   },
   "outputs": [],
   "source": [
    "# Convert merged_list to a list of strings\n",
    "texts = [str(x) for x in merged_list]"
   ]
  },
  {
   "cell_type": "code",
   "execution_count": 15,
   "id": "94fcee47-816b-4b3e-9b87-12d42fcfc1a6",
   "metadata": {
    "tags": []
   },
   "outputs": [],
   "source": [
    "all_positive = []\n",
    "all_negative = []\n",
    "all_neutral = []\n",
    "\n",
    "batch_size = 8\n",
    "\n",
    "for i in range(0, len(texts), batch_size):\n",
    "    batch_texts = texts[i:i+batch_size]\n",
    "    inputs = tokenizer(batch_texts, padding=True, truncation=True, max_length=512, return_tensors=\"pt\")\n",
    "\n",
    "    with torch.no_grad():\n",
    "        outputs = model(**inputs)\n",
    "        predictions = torch.nn.functional.softmax(outputs.logits, dim=-1)\n",
    "        \n",
    "        all_positive.extend(predictions[:, 0].tolist())\n",
    "        all_negative.extend(predictions[:, 1].tolist())\n",
    "        all_neutral.extend(predictions[:, 2].tolist())"
   ]
  },
  {
   "cell_type": "code",
   "execution_count": 18,
   "id": "0cdddec6-5c1c-4da8-8125-8d7b1109993d",
   "metadata": {
    "tags": []
   },
   "outputs": [],
   "source": [
    "table = {\n",
    "    'News_Text': merged_list,\n",
    "    'Positive_Sentiment': all_positive,\n",
    "    'Negative_Sentiment': all_negative,\n",
    "    'Neutral_Sentiment': all_neutral\n",
    "}\n",
    "\n",
    "sentiment_df = pd.DataFrame(table)\n",
    "sentiment_df['Date'] = financial_news['Date']"
   ]
  },
  {
   "cell_type": "code",
   "execution_count": 19,
   "id": "54094c39-9ad1-4d2d-be7c-2c59a01cc8da",
   "metadata": {
    "tags": []
   },
   "outputs": [
    {
     "data": {
      "text/html": [
       "<div>\n",
       "<style scoped>\n",
       "    .dataframe tbody tr th:only-of-type {\n",
       "        vertical-align: middle;\n",
       "    }\n",
       "\n",
       "    .dataframe tbody tr th {\n",
       "        vertical-align: top;\n",
       "    }\n",
       "\n",
       "    .dataframe thead th {\n",
       "        text-align: right;\n",
       "    }\n",
       "</style>\n",
       "<table border=\"1\" class=\"dataframe\">\n",
       "  <thead>\n",
       "    <tr style=\"text-align: right;\">\n",
       "      <th></th>\n",
       "      <th>News_Text</th>\n",
       "      <th>Positive_Sentiment</th>\n",
       "      <th>Negative_Sentiment</th>\n",
       "      <th>Neutral_Sentiment</th>\n",
       "      <th>Date</th>\n",
       "    </tr>\n",
       "  </thead>\n",
       "  <tbody>\n",
       "    <tr>\n",
       "      <th>0</th>\n",
       "      <td>US stocks fall, oil tops $105 as Ukraine crisi...</td>\n",
       "      <td>0.017090</td>\n",
       "      <td>0.938924</td>\n",
       "      <td>0.043986</td>\n",
       "      <td>2022-03-01 08:00:00</td>\n",
       "    </tr>\n",
       "    <tr>\n",
       "      <th>1</th>\n",
       "      <td>Apple halts product sales in Russia after Ukra...</td>\n",
       "      <td>0.008614</td>\n",
       "      <td>0.924845</td>\n",
       "      <td>0.066542</td>\n",
       "      <td>2022-03-02 02:00:13</td>\n",
       "    </tr>\n",
       "    <tr>\n",
       "      <th>2</th>\n",
       "      <td>Russia says its economy is taking 'serious blo...</td>\n",
       "      <td>0.022001</td>\n",
       "      <td>0.947558</td>\n",
       "      <td>0.030441</td>\n",
       "      <td>2022-03-02 08:00:00</td>\n",
       "    </tr>\n",
       "    <tr>\n",
       "      <th>3</th>\n",
       "      <td>Rich Russians turn to luxury jewellery, watche...</td>\n",
       "      <td>0.036754</td>\n",
       "      <td>0.055543</td>\n",
       "      <td>0.907702</td>\n",
       "      <td>2022-03-02 08:00:00</td>\n",
       "    </tr>\n",
       "    <tr>\n",
       "      <th>4</th>\n",
       "      <td>Market Rallies, But Still Must Do This; 5 Stoc...</td>\n",
       "      <td>0.680846</td>\n",
       "      <td>0.055331</td>\n",
       "      <td>0.263823</td>\n",
       "      <td>2022-03-03 08:00:00</td>\n",
       "    </tr>\n",
       "    <tr>\n",
       "      <th>...</th>\n",
       "      <td>...</td>\n",
       "      <td>...</td>\n",
       "      <td>...</td>\n",
       "      <td>...</td>\n",
       "      <td>...</td>\n",
       "    </tr>\n",
       "    <tr>\n",
       "      <th>26531</th>\n",
       "      <td>The Best Warren Buffett Stocks to Buy With $2,...</td>\n",
       "      <td>0.068133</td>\n",
       "      <td>0.017387</td>\n",
       "      <td>0.914480</td>\n",
       "      <td>2025-03-22 20:13:00</td>\n",
       "    </tr>\n",
       "    <tr>\n",
       "      <th>26532</th>\n",
       "      <td>2 Millionaire-Maker Technology Stocks to Buy</td>\n",
       "      <td>0.218819</td>\n",
       "      <td>0.009622</td>\n",
       "      <td>0.771559</td>\n",
       "      <td>2025-03-23 09:15:00</td>\n",
       "    </tr>\n",
       "    <tr>\n",
       "      <th>26533</th>\n",
       "      <td>Apple's Siri AI Crisis, Security Flaws, And Ch...</td>\n",
       "      <td>0.023718</td>\n",
       "      <td>0.818845</td>\n",
       "      <td>0.157437</td>\n",
       "      <td>2025-03-23 11:01:19</td>\n",
       "    </tr>\n",
       "    <tr>\n",
       "      <th>26534</th>\n",
       "      <td>Google's AI Sprint, OpenAI Legal Drama, Nvidia...</td>\n",
       "      <td>0.034754</td>\n",
       "      <td>0.081688</td>\n",
       "      <td>0.883558</td>\n",
       "      <td>2025-03-23 13:20:18</td>\n",
       "    </tr>\n",
       "    <tr>\n",
       "      <th>26535</th>\n",
       "      <td>Apple Explores AI Wearables With Camera-Integr...</td>\n",
       "      <td>0.107460</td>\n",
       "      <td>0.010655</td>\n",
       "      <td>0.881885</td>\n",
       "      <td>2025-03-23 15:49:16</td>\n",
       "    </tr>\n",
       "  </tbody>\n",
       "</table>\n",
       "<p>26536 rows × 5 columns</p>\n",
       "</div>"
      ],
      "text/plain": [
       "                                               News_Text  Positive_Sentiment  \\\n",
       "0      US stocks fall, oil tops $105 as Ukraine crisi...            0.017090   \n",
       "1      Apple halts product sales in Russia after Ukra...            0.008614   \n",
       "2      Russia says its economy is taking 'serious blo...            0.022001   \n",
       "3      Rich Russians turn to luxury jewellery, watche...            0.036754   \n",
       "4      Market Rallies, But Still Must Do This; 5 Stoc...            0.680846   \n",
       "...                                                  ...                 ...   \n",
       "26531  The Best Warren Buffett Stocks to Buy With $2,...            0.068133   \n",
       "26532       2 Millionaire-Maker Technology Stocks to Buy            0.218819   \n",
       "26533  Apple's Siri AI Crisis, Security Flaws, And Ch...            0.023718   \n",
       "26534  Google's AI Sprint, OpenAI Legal Drama, Nvidia...            0.034754   \n",
       "26535  Apple Explores AI Wearables With Camera-Integr...            0.107460   \n",
       "\n",
       "       Negative_Sentiment  Neutral_Sentiment                Date  \n",
       "0                0.938924           0.043986 2022-03-01 08:00:00  \n",
       "1                0.924845           0.066542 2022-03-02 02:00:13  \n",
       "2                0.947558           0.030441 2022-03-02 08:00:00  \n",
       "3                0.055543           0.907702 2022-03-02 08:00:00  \n",
       "4                0.055331           0.263823 2022-03-03 08:00:00  \n",
       "...                   ...                ...                 ...  \n",
       "26531            0.017387           0.914480 2025-03-22 20:13:00  \n",
       "26532            0.009622           0.771559 2025-03-23 09:15:00  \n",
       "26533            0.818845           0.157437 2025-03-23 11:01:19  \n",
       "26534            0.081688           0.883558 2025-03-23 13:20:18  \n",
       "26535            0.010655           0.881885 2025-03-23 15:49:16  \n",
       "\n",
       "[26536 rows x 5 columns]"
      ]
     },
     "execution_count": 19,
     "metadata": {},
     "output_type": "execute_result"
    }
   ],
   "source": [
    "sentiment_df"
   ]
  },
  {
   "cell_type": "code",
   "execution_count": 20,
   "id": "b90cd128-b37d-4798-9ebc-12803e23ce07",
   "metadata": {
    "tags": []
   },
   "outputs": [
    {
     "name": "stderr",
     "output_type": "stream",
     "text": [
      "C:\\Program Files\\anaconda3\\Lib\\site-packages\\seaborn\\_oldcore.py:1119: FutureWarning: use_inf_as_na option is deprecated and will be removed in a future version. Convert inf values to NaN before operating instead.\n",
      "  with pd.option_context('mode.use_inf_as_na', True):\n",
      "C:\\Program Files\\anaconda3\\Lib\\site-packages\\seaborn\\_oldcore.py:1119: FutureWarning: use_inf_as_na option is deprecated and will be removed in a future version. Convert inf values to NaN before operating instead.\n",
      "  with pd.option_context('mode.use_inf_as_na', True):\n",
      "C:\\Program Files\\anaconda3\\Lib\\site-packages\\seaborn\\_oldcore.py:1119: FutureWarning: use_inf_as_na option is deprecated and will be removed in a future version. Convert inf values to NaN before operating instead.\n",
      "  with pd.option_context('mode.use_inf_as_na', True):\n"
     ]
    },
    {
     "data": {
      "image/png": "[encoded data removed]",
      "text/plain": [
       "<Figure size 1000x600 with 1 Axes>"
      ]
     },
     "metadata": {},
     "output_type": "display_data"
    }
   ],
   "source": [
    "import seaborn as sns\n",
    "import matplotlib.pyplot as plt\n",
    "\n",
    "# Set style\n",
    "sns.set(style=\"whitegrid\")\n",
    "\n",
    "# Plot density of all three sentiment scores\n",
    "plt.figure(figsize=(10, 6))\n",
    "sns.kdeplot(sentiment_df['Positive_Sentiment'], label='Positive', linewidth=2)\n",
    "sns.kdeplot(sentiment_df['Negative_Sentiment'], label='Negative', linewidth=2)\n",
    "sns.kdeplot(sentiment_df['Neutral_Sentiment'], label='Neutral', linewidth=2)\n",
    "\n",
    "plt.title('Sentiment Score Density Distribution')\n",
    "plt.xlabel('Sentiment Score')\n",
    "plt.ylabel('Density')\n",
    "plt.legend()\n",
    "plt.tight_layout()\n",
    "plt.show()\n"
   ]
  },
  {
   "cell_type": "code",
   "execution_count": 22,
   "id": "64a911ef-b02a-4fcb-91b2-a2667cd1b00a",
   "metadata": {
    "tags": []
   },
   "outputs": [
    {
     "data": {
      "image/png": "[encoded data removed]",
      "text/plain": [
       "<Figure size 800x500 with 1 Axes>"
      ]
     },
     "metadata": {},
     "output_type": "display_data"
    }
   ],
   "source": [
    "import matplotlib.pyplot as plt\n",
    "\n",
    "# Calculate average sentiment scores\n",
    "avg_positive = sentiment_df['Positive_Sentiment'].count()\n",
    "avg_negative = sentiment_df['Negative_Sentiment'].count()\n",
    "avg_neutral  = sentiment_df['Neutral_Sentiment'].count()\n",
    "\n",
    "# Bar plot data\n",
    "labels = ['Positive', 'Negative', 'Neutral']\n",
    "values = [avg_positive, avg_negative, avg_neutral]\n",
    "\n",
    "# Create the bar plot\n",
    "plt.figure(figsize=(8, 5))\n",
    "plt.bar(labels, values)\n",
    "plt.title('Average Sentiment Scores')\n",
    "plt.ylabel('Score')\n",
    "plt.ylim(0, 1)\n",
    "plt.grid(axis='y')\n",
    "plt.tight_layout()\n",
    "plt.show()\n"
   ]
  },
  {
   "cell_type": "code",
   "execution_count": null,
   "id": "ad3152da-7ecd-43ac-be4c-0d37fadbad14",
   "metadata": {},
   "outputs": [],
   "source": []
  }
 ],
 "metadata": {
  "kernelspec": {
   "display_name": "Python 3 (ipykernel)",
   "language": "python",
   "name": "python3"
  },
  "language_info": {
   "codemirror_mode": {
    "name": "ipython",
    "version": 3
   },
   "file_extension": ".py",
   "mimetype": "text/x-python",
   "name": "python",
   "nbconvert_exporter": "python",
   "pygments_lexer": "ipython3",
   "version": "3.11.5"
  }
 },
 "nbformat": 4,
 "nbformat_minor": 5
}
