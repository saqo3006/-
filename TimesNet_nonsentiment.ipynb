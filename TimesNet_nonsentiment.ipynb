{
 "cells": [
  {
   "cell_type": "code",
   "execution_count": null,
   "metadata": {
    "collapsed": true,
    "id": "HixQHKXn_fVV",
    "jupyter": {
     "outputs_hidden": true
    }
   },
   "outputs": [],
   "source": [
    "from google.colab import files\n",
    "files.upload()"
   ]
  },
  {
   "cell_type": "code",
   "execution_count": null,
   "metadata": {
    "id": "aK8XKd6jDD8I"
   },
   "outputs": [],
   "source": [
    "ls"
   ]
  },
  {
   "cell_type": "code",
   "execution_count": null,
   "metadata": {
    "id": "jboEq4drvOZQ"
   },
   "outputs": [],
   "source": [
    "from google.colab import drive\n",
    "drive.mount('/content/drive')"
   ]
  },
  {
   "cell_type": "code",
   "execution_count": null,
   "metadata": {
    "id": "gQNJ_X8eBp4B"
   },
   "outputs": [],
   "source": [
    "import time\n",
    "import math\n",
    "from tensorflow.keras.models import Sequential\n",
    "from tensorflow.keras.layers import Dense, Dropout, Activation, LSTM # Use tf.keras.layers\n",
    "import numpy as np\n",
    "import pandas as pd\n",
    "import sklearn.preprocessing as prep"
   ]
  },
  {
   "cell_type": "code",
   "execution_count": null,
   "metadata": {
    "id": "-6MEa9Nm_j9o"
   },
   "outputs": [],
   "source": [
    "df = pd.read_csv('drive/MyDrive/TimesNet/aapl.csv')\n",
    "df = df.drop([\"Date\"], axis=1)\n",
    "df.head()"
   ]
  },
  {
   "cell_type": "code",
   "execution_count": null,
   "metadata": {
    "id": "DRgnP80IjsmQ"
   },
   "outputs": [],
   "source": [
    "# 1) Clone THU’s repo\n",
    "!git clone https://github.com/thuml/Time-Series-Library.git"
   ]
  },
  {
   "cell_type": "code",
   "execution_count": null,
   "metadata": {
    "id": "vf-wEAD4lS7w"
   },
   "outputs": [],
   "source": [
    "import sys\n",
    "sys.path.append('/content/Time-Series-Library/')"
   ]
  },
  {
   "cell_type": "code",
   "execution_count": null,
   "metadata": {
    "id": "H0uPuzx-hL0O"
   },
   "outputs": [],
   "source": [
    "# 2) Imports\n",
    "import torch, numpy as np, pandas as pd\n",
    "from types import SimpleNamespace\n",
    "from sklearn.preprocessing import StandardScaler\n",
    "from sklearn.model_selection import train_test_split\n",
    "from models.TimesNet import Model as TimesNet      # class is named Model inside TimesNet.py :contentReference[oaicite:1]{index=1}\n",
    "import matplotlib.pyplot as plt"
   ]
  },
  {
   "cell_type": "code",
   "execution_count": null,
   "metadata": {
    "id": "2_Jv8zGrhLxP"
   },
   "outputs": [],
   "source": [
    "# 3) Load your CSV (e.g. aapl.csv)\n",
    "#from google.colab import files\n",
    "#uploaded = files.upload()         # pick aapl.csv\n",
    "df_raw = pd.read_csv(\"drive/MyDrive/TimesNet/aapl.csv\")"
   ]
  },
  {
   "cell_type": "code",
   "execution_count": null,
   "metadata": {
    "id": "-QVIzjR-hLqP"
   },
   "outputs": [],
   "source": [
    "# 4) Build time-feature matrix [month, day, weekday, hour]\n",
    "#    (Daily data → hour=0)\n",
    "df = df_raw.copy()\n",
    "dates = pd.to_datetime(df['Date'])\n",
    "time_feats = np.stack([\n",
    "    dates.dt.month.values,\n",
    "    dates.dt.day.values,\n",
    "    dates.dt.weekday.values,\n",
    "    np.zeros(len(dates), dtype=int)\n",
    "], axis=1)  # shape (T,4)"
   ]
  },
  {
   "cell_type": "code",
   "execution_count": null,
   "metadata": {
    "id": "XGI39uz1hLcA"
   },
   "outputs": [],
   "source": [
    "# 5) Drop non-numeric columns & scale\n",
    "df = df.drop(columns=['Date','Scaled_sentiment'], errors='ignore')\n",
    "features = df.columns.tolist()\n",
    "data = df.values.astype(np.float32)\n",
    "scaler = StandardScaler()\n",
    "data = scaler.fit_transform(data)"
   ]
  },
  {
   "cell_type": "code",
   "execution_count": null,
   "metadata": {
    "id": "gFa0uD25hU-U"
   },
   "outputs": [],
   "source": [
    "# 6) Create sliding windows for X, x_mark, and y\n",
    "SEQ_LEN, LABEL_LEN, PRED_LEN = 24, 24, 1\n",
    "X, X_mark, y = [], [], []\n",
    "close_idx = features.index('Close') if 'Close' in features else -1\n",
    "\n",
    "for i in range(len(data) - SEQ_LEN - PRED_LEN + 1):\n",
    "    X.append(data[i : i+SEQ_LEN])\n",
    "    X_mark.append(time_feats[i : i+SEQ_LEN])\n",
    "    y.append(data[i+SEQ_LEN : i+SEQ_LEN+PRED_LEN, close_idx])\n",
    "\n",
    "X      = np.stack(X)       # (N, SEQ_LEN, n_feat)\n",
    "X_mark = np.stack(X_mark)  # (N, SEQ_LEN, 4)\n",
    "y      = np.stack(y)       # (N, PRED_LEN)"
   ]
  },
  {
   "cell_type": "code",
   "execution_count": null,
   "metadata": {
    "id": "8tSmz_DvhU35"
   },
   "outputs": [],
   "source": [
    "# 7) Train/test split & tensorize\n",
    "X_tr, X_te, M_tr, M_te, y_tr, y_te = train_test_split(\n",
    "    X, X_mark, y, test_size=0.2, shuffle=False\n",
    ")\n",
    "device = torch.device('cuda' if torch.cuda.is_available() else 'cpu')\n",
    "\n",
    "X_tr = torch.from_numpy(X_tr).to(device)\n",
    "M_tr = torch.from_numpy(M_tr).to(device)\n",
    "y_tr = torch.from_numpy(y_tr).to(device)\n",
    "\n",
    "X_te = torch.from_numpy(X_te).to(device)\n",
    "M_te = torch.from_numpy(M_te).to(device)\n",
    "y_te = torch.from_numpy(y_te).to(device)"
   ]
  },
  {
   "cell_type": "code",
   "execution_count": null,
   "metadata": {
    "id": "qJ6qj8XEhUuw"
   },
   "outputs": [],
   "source": [
    "# 8) Build config (must include top_k & num_kernels) and model\n",
    "cfg = SimpleNamespace(\n",
    "    task_name='short_term_forecast',\n",
    "    seq_len=SEQ_LEN, label_len=LABEL_LEN, pred_len=PRED_LEN,\n",
    "    enc_in=len(features), dec_in=len(features), c_out=1,\n",
    "    d_model=32, d_ff=64, embed='fixed', freq='d',  # daily freq\n",
    "    dropout=0.1, e_layers=3, top_k=3, num_kernels=3\n",
    ")\n",
    "model = TimesNet(cfg).to(device)\n",
    "print(\"✅ TimesNet params:\", sum(p.numel() for p in model.parameters()))\n"
   ]
  },
  {
   "cell_type": "code",
   "execution_count": null,
   "metadata": {
    "id": "rU9O_r9_heRZ"
   },
   "outputs": [],
   "source": [
    "# 9) Train\n",
    "opt = torch.optim.Adam(model.parameters(), lr=1e-3)\n",
    "loss_fn = torch.nn.MSELoss()\n",
    "\n",
    "for ep in range(1, 15):\n",
    "    model.train()\n",
    "    perm = torch.randperm(X_tr.size(0))\n",
    "    tot_loss = 0.0\n",
    "    for i in range(0, len(perm), 64):\n",
    "        idx = perm[i:i+64]\n",
    "        xb, mb, yb = X_tr[idx], M_tr[idx], y_tr[idx]\n",
    "        opt.zero_grad()\n",
    "        out = model(xb, mb, None, None).squeeze(-1)   # pass dummy decoder args :contentReference[oaicite:2]{index=2}\n",
    "        loss = loss_fn(out, yb)\n",
    "        loss.backward()\n",
    "        opt.step()\n",
    "        tot_loss += loss.item() * xb.size(0)\n",
    "    print(f\"Epoch {ep}/30 — Train MSE: {tot_loss/len(X_tr):.6f}\")"
   ]
  },
  {
   "cell_type": "code",
   "execution_count": null,
   "metadata": {
    "id": "ZiAYTnXu9ltV"
   },
   "outputs": [],
   "source": [
    "# 10) Eval & plot\n",
    "batch_size = 64  # կամ ավելի փոքր՝ 64, 32՝ եթե պետք լինի\n",
    "\n",
    "model.eval()\n",
    "predictions = []\n",
    "true_values = []\n",
    "\n",
    "with torch.no_grad():\n",
    "    for i in range(0, len(X_te), batch_size):\n",
    "        xb = X_te[i:i+batch_size]\n",
    "        mb = M_te[i:i+batch_size]\n",
    "        yb = y_te[i:i+batch_size]\n",
    "\n",
    "        out = model(xb, mb, None, None).squeeze(-1)  # [batch_size, pred_len]\n",
    "        predictions.append(out.cpu().numpy())\n",
    "        true_values.append(yb.cpu().numpy())\n",
    "\n",
    "# Միավորում ենք բոլոր բաչերի արդյունքները\n",
    "pred = np.concatenate(predictions, axis=0)\n",
    "true = np.concatenate(true_values, axis=0)\n"
   ]
  },
  {
   "cell_type": "code",
   "execution_count": null,
   "metadata": {
    "id": "KgYADJi7_Kd4"
   },
   "outputs": [],
   "source": [
    "# 1. Սեղմում ենք pred-ը եթե պետք է\n",
    "if pred.ndim == 3 and pred.shape[1] == 1:\n",
    "    pred = pred.squeeze(1)\n",
    "\n",
    "# 2. Սեղմում ենք true-ն եթե պետք է\n",
    "if true.ndim == 3 and true.shape[1] == 1:\n",
    "    true = true.squeeze(1)\n",
    "\n",
    "# 3. Եթե true միաչափ է, դարձնել 2D\n",
    "if true.ndim == 1:\n",
    "    true = true.reshape(-1, 1)\n",
    "\n",
    "# 4. Պատրաստում ենք padding\n",
    "pad_pred = np.zeros((pred.shape[0], len(features) - pred.shape[1]))  # (137016, 8)\n",
    "pad_true = np.zeros((true.shape[0], len(features) - true.shape[1]))  # (137016, 8)\n",
    "\n",
    "# 5. Հորիզոնական միացնում ենք\n",
    "pred_full = np.hstack([pad_pred, pred])    # (137016, 9)\n",
    "true_full = np.hstack([pad_true, true])     # (137016, 9)\n",
    "\n",
    "# 6. Inverse transform\n",
    "pred_close = scaler.inverse_transform(pred_full)[:, -1]\n",
    "true_close = scaler.inverse_transform(true_full)[:, -1]\n"
   ]
  },
  {
   "cell_type": "code",
   "execution_count": null,
   "metadata": {
    "id": "Qe0vKcl0Jpf3"
   },
   "outputs": [],
   "source": [
    "plt.figure(figsize=(12,4))\n",
    "plt.plot(true_close, label='Ground Truth')\n",
    "plt.plot(pred_close, label='Prediction')\n",
    "plt.title('TimesNet Close-Price Forecast')\n",
    "plt.legend()\n",
    "plt.show()"
   ]
  },
  {
   "cell_type": "code",
   "execution_count": null,
   "metadata": {
    "id": "dBQfwph2Ljic"
   },
   "outputs": [],
   "source": [
    "from sklearn.metrics import mean_squared_error, mean_absolute_error, r2_score\n",
    "import numpy as np\n",
    "\n",
    "# Հաշվարկում ենք մետրիկաները\n",
    "mse = mean_squared_error(true_close, pred_close)\n",
    "rmse = np.sqrt(mse)\n",
    "mae = mean_absolute_error(true_close, pred_close)\n",
    "r2 = r2_score(true_close, pred_close)\n",
    "\n",
    "# Տպում ենք արդյունքները\n",
    "print(f\"✅ Test MSE:  {mse:.6f}\")\n",
    "print(f\"✅ Test RMSE: {rmse:.6f}\")\n",
    "print(f\"✅ Test MAE:  {mae:.6f}\")\n",
    "print(f\"✅ Test R²:   {r2:.6f}\")\n"
   ]
  },
  {
   "cell_type": "code",
   "execution_count": null,
   "metadata": {
    "id": "f5XCx_cyAj3X"
   },
   "outputs": [],
   "source": []
  }
 ],
 "metadata": {
  "accelerator": "GPU",
  "colab": {
   "gpuType": "T4",
   "private_outputs": true,
   "provenance": []
  },
  "kernelspec": {
   "display_name": "Python 3 (ipykernel)",
   "language": "python",
   "name": "python3"
  },
  "language_info": {
   "codemirror_mode": {
    "name": "ipython",
    "version": 3
   },
   "file_extension": ".py",
   "mimetype": "text/x-python",
   "name": "python",
   "nbconvert_exporter": "python",
   "pygments_lexer": "ipython3",
   "version": "3.11.5"
  }
 },
 "nbformat": 4,
 "nbformat_minor": 4
}
